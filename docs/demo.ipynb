{
 "cells": [
  {
   "metadata": {},
   "cell_type": "markdown",
   "source": [
    "### Running SCARVS in Notebooks\n",
    "\n",
    "To run SCARVS inside python, you need to import the scarvs module:"
   ],
   "id": "9ca97051558ccbc4"
  },
  {
   "metadata": {},
   "cell_type": "code",
   "outputs": [],
   "execution_count": null,
   "source": [
    "from scarvs.recipes import scarvs_run\n",
    "\n",
    "# define the path to your yaml file\n",
    "yaml_file = '/path/to/yaml_file.yaml'\n",
    "\n",
    "# run scarvs\n",
    "scarvs_run.main(yaml_file)"
   ],
   "id": "fd6a1ed2e17762b9"
  },
  {
   "metadata": {},
   "cell_type": "markdown",
   "source": [
    "## Overriding parameters\n",
    "\n",
    "If you wish to override the yaml file, you can do so by passing in a dictionary\n",
    "as follows:"
   ],
   "id": "a5f0223274411fce"
  },
  {
   "metadata": {},
   "cell_type": "code",
   "outputs": [],
   "execution_count": null,
   "source": [
    "from scarvs.core import startup\n",
    "from scarvs.core import general\n",
    "\n",
    "# define the path to your yaml file\n",
    "yaml_file = '/path/to/yaml_file.yaml'\n",
    "# get parameters\n",
    "params = startup.get_params(yaml_file)\n",
    "\n",
    "# Define data path\n",
    "params['DATA_DIR'] = '/path/to/data'\n",
    "\n",
    "# Define plot path\n",
    "params['PLOT_DIR'] = '/path/to/plots'\n",
    "\n",
    "# ---------------------------------------------------------------\n",
    "# Then use the following to run scarvs\n",
    "# ---------------------------------------------------------------\n",
    "    # run science functions\n",
    "    for science_func in params['SCIFUNCS']:\n",
    "        # check whether we should run this function then run it\n",
    "        if general.check_run(params, science_func, 'SCIENCE'):\n",
    "            # log the we are running a function\n",
    "            general.log_run(params, science_func, 'SCIENCE')\n",
    "            # run the science function\n",
    "            params['SCIFUNCS'][science_func](params)\n",
    "    # run plotting functions\n",
    "    for plot_func in params['PLOTFUNCS']:\n",
    "        # check whether we should run this function then run it\n",
    "        if general.check_run(params, plot_func, 'PLOTTING'):\n",
    "            # log the we are running a function\n",
    "            general.log_run(params, plot_func, 'PLOTTING')\n",
    "            # run the plotting function\n",
    "            params['PLOTFUNCS'][plot_func](params)"
   ],
   "id": "623b3662d7841dd2"
  },
  {
   "metadata": {},
   "cell_type": "markdown",
   "source": [
    "## Running invidual function\n",
    "\n",
    "\n",
    "To run an individual function, you can call the dictionary and run the function\n",
    "\n",
    "\n"
   ],
   "id": "35c803740d43adfe"
  },
  {
   "metadata": {},
   "cell_type": "code",
   "outputs": [],
   "execution_count": null,
   "source": [
    "from scarvs.core import startup\n",
    "\n",
    "# define the path to your yaml file\n",
    "yaml_file = '/path/to/yaml_file.yaml'\n",
    "# get parameters\n",
    "params = startup.get_params(yaml_file)\n",
    "\n",
    "# run the science \"TEST\" function\n",
    "params['SCIFUNCS']['TEST'](params)\n",
    "\n",
    "# run the plotting \"TEST\" function\n",
    "params['PLOTFUNCS']['TEST'](params)"
   ],
   "id": "12c547262ec8e968"
  }
 ],
 "metadata": {
  "kernelspec": {
   "display_name": "Python 3",
   "language": "python",
   "name": "python3"
  },
  "language_info": {
   "codemirror_mode": {
    "name": "ipython",
    "version": 2
   },
   "file_extension": ".py",
   "mimetype": "text/x-python",
   "name": "python",
   "nbconvert_exporter": "python",
   "pygments_lexer": "ipython2",
   "version": "2.7.6"
  }
 },
 "nbformat": 4,
 "nbformat_minor": 5
}
